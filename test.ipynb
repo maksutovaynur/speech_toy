{
 "cells": [
  {
   "cell_type": "code",
   "execution_count": 1,
   "metadata": {},
   "outputs": [],
   "source": [
    "import cv2\n",
    "import numpy as np\n",
    "import io\n",
    "from PIL import Image"
   ]
  },
  {
   "cell_type": "code",
   "execution_count": 9,
   "metadata": {},
   "outputs": [
    {
     "data": {
      "text/plain": [
       "269331"
      ]
     },
     "execution_count": 9,
     "metadata": {},
     "output_type": "execute_result"
    }
   ],
   "source": [
    "input_img_data = open('images/s3_original.JPG', 'rb').read()\n",
    "input_img = cv2.imdecode(np.frombuffer(input_img_data, np.uint8), cv2.IMREAD_LOAD_GDAL)\n",
    "input_img_pil = Image.open(io.BytesIO(input_img_data))\n",
    "\n",
    "tmp_img = cv2.resize(input_img, (input_img.shape[1]//3, input_img.shape[0]//3), interpolation=cv2.INTER_AREA)\n",
    "\n",
    "output_img_data = cv2.imencode('.jpg', tmp_img)[1].tobytes()\n",
    "output_img_pil = Image.open(io.BytesIO(output_img_data))\n",
    "oio = io.BytesIO()\n",
    "output_img_pil.save(oio, format='jpeg', icc_profile=input_img_pil.info.get('icc_profile'))\n",
    "oio.seek(0)\n",
    "open('images/PIL_CV2_hybride.JPG', 'wb').write(oio.read())"
   ]
  },
  {
   "cell_type": "code",
   "execution_count": null,
   "metadata": {},
   "outputs": [],
   "source": [
    "\n",
    "pimg.save(oio)"
   ]
  },
  {
   "cell_type": "code",
   "execution_count": 20,
   "metadata": {},
   "outputs": [
    {
     "data": {
      "text/plain": [
       "4803745"
      ]
     },
     "execution_count": 20,
     "metadata": {},
     "output_type": "execute_result"
    }
   ],
   "source": []
  },
  {
   "cell_type": "code",
   "execution_count": 11,
   "metadata": {},
   "outputs": [
    {
     "name": "stdout",
     "output_type": "stream",
     "text": [
      "Pillow==6.0.0\n",
      "Note: you may need to restart the kernel to use updated packages.\n"
     ]
    }
   ],
   "source": [
    "%pip freeze | grep Pillow"
   ]
  },
  {
   "cell_type": "code",
   "execution_count": null,
   "metadata": {},
   "outputs": [],
   "source": []
  }
 ],
 "metadata": {
  "kernelspec": {
   "display_name": "Python 3",
   "language": "python",
   "name": "python3"
  },
  "language_info": {
   "codemirror_mode": {
    "name": "ipython",
    "version": 3
   },
   "file_extension": ".py",
   "mimetype": "text/x-python",
   "name": "python",
   "nbconvert_exporter": "python",
   "pygments_lexer": "ipython3",
   "version": "3.7.1"
  }
 },
 "nbformat": 4,
 "nbformat_minor": 2
}
